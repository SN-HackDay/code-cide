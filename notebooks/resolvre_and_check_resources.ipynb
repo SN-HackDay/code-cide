{
 "cells": [
  {
   "cell_type": "markdown",
   "metadata": {},
   "source": [
    "# Notebook to process output from thecontentmine\n",
    "\n",
    "This notebook illustrates the basic process of processing each resource in each paper and allocates a score."
   ]
  },
  {
   "cell_type": "code",
   "execution_count": 1,
   "metadata": {},
   "outputs": [],
   "source": [
    "import pandas\n",
    "import process_urls"
   ]
  },
  {
   "cell_type": "code",
   "execution_count": 2,
   "metadata": {},
   "outputs": [],
   "source": [
    "with open('amw_token', 'r') as f:\n",
    "    github_token = f.read()"
   ]
  },
  {
   "cell_type": "code",
   "execution_count": 3,
   "metadata": {},
   "outputs": [],
   "source": [
    "dict_of_papers = {'10.1016/j.cageo.2012.05.031': {'github': ['https://github.com/andreww/MSAT',\n",
    "                                                             'https://github.com/url_that_does_not_resolve.com'],\n",
    "                                                  'zenodo': ['https://zenodo.org/record/1196821#.WrtnltPwYkg']\n",
    "                                                 }\n",
    "                 }"
   ]
  },
  {
   "cell_type": "code",
   "execution_count": 4,
   "metadata": {},
   "outputs": [
    {
     "name": "stdout",
     "output_type": "stream",
     "text": [
      "processing paper with doi 10.1016/j.cageo.2012.05.031\n",
      "URL https://github.com/andreww/MSAT has a licence\n",
      "URL https://github.com/url_that_does_not_resolve.com did not resolve\n",
      "URL https://zenodo.org/record/1196821#.WrtnltPwYkg has a licence\n",
      "Paper with doi 10.1016/j.cageo.2012.05.031 has score of 1.3333333333333333\n"
     ]
    }
   ],
   "source": [
    "resources_list = process_urls.process_papers_dict(dict_of_papers, verbose=True, \n",
    "                                                  github_token=github_token)"
   ]
  },
  {
   "cell_type": "code",
   "execution_count": 5,
   "metadata": {},
   "outputs": [
    {
     "name": "stdout",
     "output_type": "stream",
     "text": [
      "[{'licence_exists': True, 'url': 'https://github.com/andreww/MSAT', 'resolves': True, 'resourcetype': 'github', 'timestamp': '2018-03-28T14:30:43.464346', 'doi': '10.1016/j.cageo.2012.05.031', 'score': 2}, {'licence_exists': None, 'url': 'https://github.com/url_that_does_not_resolve.com', 'resolves': False, 'resourcetype': 'github', 'timestamp': '2018-03-28T14:30:44.667999', 'doi': '10.1016/j.cageo.2012.05.031', 'score': 0}, {'licence_exists': True, 'url': 'https://zenodo.org/record/1196821#.WrtnltPwYkg', 'resolves': True, 'resourcetype': 'zenodo', 'timestamp': '2018-03-28T14:30:45.118496', 'doi': '10.1016/j.cageo.2012.05.031', 'score': 2}]\n"
     ]
    }
   ],
   "source": [
    "print(resources_list)"
   ]
  },
  {
   "cell_type": "markdown",
   "metadata": {},
   "source": [
    "## Analysis of the data\n",
    "\n",
    "We can store the data in a flat SQL database, but here we stuff it into a Pandas dataframe to allow some analysis."
   ]
  },
  {
   "cell_type": "code",
   "execution_count": 6,
   "metadata": {},
   "outputs": [],
   "source": [
    "url_df = pandas.DataFrame.from_dict(resources_list)"
   ]
  },
  {
   "cell_type": "code",
   "execution_count": 7,
   "metadata": {},
   "outputs": [
    {
     "data": {
      "text/html": [
       "<div>\n",
       "<table border=\"1\" class=\"dataframe\">\n",
       "  <thead>\n",
       "    <tr style=\"text-align: right;\">\n",
       "      <th></th>\n",
       "      <th>doi</th>\n",
       "      <th>licence_exists</th>\n",
       "      <th>resolves</th>\n",
       "      <th>resourcetype</th>\n",
       "      <th>score</th>\n",
       "      <th>timestamp</th>\n",
       "      <th>url</th>\n",
       "    </tr>\n",
       "  </thead>\n",
       "  <tbody>\n",
       "    <tr>\n",
       "      <th>0</th>\n",
       "      <td>10.1016/j.cageo.2012.05.031</td>\n",
       "      <td>True</td>\n",
       "      <td>True</td>\n",
       "      <td>github</td>\n",
       "      <td>2</td>\n",
       "      <td>2018-03-28T14:30:43.464346</td>\n",
       "      <td>https://github.com/andreww/MSAT</td>\n",
       "    </tr>\n",
       "    <tr>\n",
       "      <th>1</th>\n",
       "      <td>10.1016/j.cageo.2012.05.031</td>\n",
       "      <td>None</td>\n",
       "      <td>False</td>\n",
       "      <td>github</td>\n",
       "      <td>0</td>\n",
       "      <td>2018-03-28T14:30:44.667999</td>\n",
       "      <td>https://github.com/url_that_does_not_resolve.com</td>\n",
       "    </tr>\n",
       "    <tr>\n",
       "      <th>2</th>\n",
       "      <td>10.1016/j.cageo.2012.05.031</td>\n",
       "      <td>True</td>\n",
       "      <td>True</td>\n",
       "      <td>zenodo</td>\n",
       "      <td>2</td>\n",
       "      <td>2018-03-28T14:30:45.118496</td>\n",
       "      <td>https://zenodo.org/record/1196821#.WrtnltPwYkg</td>\n",
       "    </tr>\n",
       "  </tbody>\n",
       "</table>\n",
       "</div>"
      ],
      "text/plain": [
       "                           doi licence_exists resolves resourcetype  score  \\\n",
       "0  10.1016/j.cageo.2012.05.031           True     True       github      2   \n",
       "1  10.1016/j.cageo.2012.05.031           None    False       github      0   \n",
       "2  10.1016/j.cageo.2012.05.031           True     True       zenodo      2   \n",
       "\n",
       "                    timestamp  \\\n",
       "0  2018-03-28T14:30:43.464346   \n",
       "1  2018-03-28T14:30:44.667999   \n",
       "2  2018-03-28T14:30:45.118496   \n",
       "\n",
       "                                                url  \n",
       "0                   https://github.com/andreww/MSAT  \n",
       "1  https://github.com/url_that_does_not_resolve.com  \n",
       "2    https://zenodo.org/record/1196821#.WrtnltPwYkg  "
      ]
     },
     "execution_count": 7,
     "metadata": {},
     "output_type": "execute_result"
    }
   ],
   "source": [
    "url_df"
   ]
  },
  {
   "cell_type": "code",
   "execution_count": null,
   "metadata": {},
   "outputs": [],
   "source": []
  }
 ],
 "metadata": {
  "kernelspec": {
   "display_name": "Python 3",
   "language": "python",
   "name": "python3"
  },
  "language_info": {
   "codemirror_mode": {
    "name": "ipython",
    "version": 3
   },
   "file_extension": ".py",
   "mimetype": "text/x-python",
   "name": "python",
   "nbconvert_exporter": "python",
   "pygments_lexer": "ipython3",
   "version": "3.4.5"
  }
 },
 "nbformat": 4,
 "nbformat_minor": 2
}
