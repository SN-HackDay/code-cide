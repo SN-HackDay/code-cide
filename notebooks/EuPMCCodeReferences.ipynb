{
 "cells": [
  {
   "cell_type": "markdown",
   "metadata": {},
   "source": [
    "# Get Code References from papers"
   ]
  },
  {
   "cell_type": "markdown",
   "metadata": {},
   "source": [
    "This notebook:\n",
    "\n",
    " * Uses getpapers externally to download fulltext of all papers in EuPMC which contain github URLs\n",
    " * Textmines each paper fulltext and extract occurences of GitHub URLs\n",
    " * Outputs a data structure of the form: paper_DOI {{github_url: \"http://github.com/blah/blah\"}...}"
   ]
  },
  {
   "cell_type": "markdown",
   "metadata": {},
   "source": [
    "## Initial setup"
   ]
  },
  {
   "cell_type": "code",
   "execution_count": 1,
   "metadata": {},
   "outputs": [],
   "source": [
    "import json\n",
    "import process_eupmc"
   ]
  },
  {
   "cell_type": "markdown",
   "metadata": {},
   "source": [
    "## File locations"
   ]
  },
  {
   "cell_type": "code",
   "execution_count": 3,
   "metadata": {},
   "outputs": [],
   "source": [
    "# Directory containing the data\n",
    "data_dir = '../data'\n",
    "\n",
    "# File containing the list of matching papers\n",
    "matching_papers = data_dir + '/' + 'eupmc_fulltext_html_urls.txt'\n",
    "\n",
    "# File for the output\n",
    "output_jsonfile = data_dir + '/' + 'dict_of_papers.json'"
   ]
  },
  {
   "cell_type": "markdown",
   "metadata": {},
   "source": [
    "## Use getpapers to download fulltext of papers"
   ]
  },
  {
   "cell_type": "markdown",
   "metadata": {},
   "source": [
    "We currently do this outside of the notebook, and assume that the files are available locally.\n",
    "\n",
    "The command we are using is:\n",
    "\n",
    ">getpapers --query 'github' -x --limit 100 -o data\n",
    "\n",
    "which queries EuPMC for all papers containing the term 'github' and returns the full text of the first 100 papers matching this into the directory 'data'"
   ]
  },
  {
   "cell_type": "markdown",
   "metadata": {},
   "source": [
    "## Textmine each paper"
   ]
  },
  {
   "cell_type": "code",
   "execution_count": 4,
   "metadata": {},
   "outputs": [],
   "source": [
    "# Get the list of subdirectories dumped by ContentMine\n",
    "paper_ids = process_eupmc.get_pmcids(matching_papers)"
   ]
  },
  {
   "cell_type": "code",
   "execution_count": 5,
   "metadata": {},
   "outputs": [],
   "source": [
    "# Process the papers and extract all the references to GitHub and Zenodo urls\n",
    "papers_info = process_eupmc.process_papers(paper_ids, data_dir)"
   ]
  },
  {
   "cell_type": "markdown",
   "metadata": {},
   "source": [
    "## Output data structure"
   ]
  },
  {
   "cell_type": "code",
   "execution_count": 6,
   "metadata": {},
   "outputs": [],
   "source": [
    "dict_of_papers = {}"
   ]
  },
  {
   "cell_type": "code",
   "execution_count": 7,
   "metadata": {},
   "outputs": [],
   "source": [
    "for p in papers_info:\n",
    "    paper_dict = {}\n",
    "    paper_dict['pmcid'] = p.pmcid\n",
    "    paper_dict['pub_date'] = p.pub_date\n",
    "    paper_dict['github'] = p.references['github']\n",
    "    dict_of_papers[str(p.doi)] = paper_dict    \n",
    "     "
   ]
  },
  {
   "cell_type": "code",
   "execution_count": 8,
   "metadata": {},
   "outputs": [],
   "source": [
    "with open(output_jsonfile, 'w') as outfile:  \n",
    "    json.dump(dict_of_papers, outfile)\n"
   ]
  },
  {
   "cell_type": "markdown",
   "metadata": {},
   "source": [
    "### Visually inspect the result"
   ]
  },
  {
   "cell_type": "code",
   "execution_count": 9,
   "metadata": {},
   "outputs": [
    {
     "name": "stdout",
     "output_type": "stream",
     "text": [
      "{\n",
      "    \"10.1038/s41467-018-03297-7\": {\n",
      "        \"github\": [\n",
      "            \"https://github.com/YeatmanLab/AFQ-Browser_data\",\n",
      "            \"https://github.com/YeatmanLab/AFQ-Browser_data/blob/master/AFQ-Browser_ALSexample/Reproducing-Sarica2017-Figure3.ipynb\",\n",
      "            \"https://github.com/YeatmanLab/AFQ-Browser_data/blob/master/AFQ-Browser_ALSexample/Figure6.ipynb\",\n",
      "            \"https://github.com\",\n",
      "            \"https://github.com/YeatmanLab/AFQ-Browser\",\n",
      "            \"https://github.com/YeatmanLab/AFQ-Browser/\",\n",
      "            \"https://github.com/yeatmanlab/AFQ-Browser_data\",\n",
      "            \"https://github.com/yeatmanlab/AFQBrowser-demo/\",\n",
      "            \"https://github.com/yeatmanlab/AFQ-Browser-MSexample/\",\n",
      "            \"https://github.com/yeatmanlab/Sarica_2017\",\n",
      "            \"https://github.com/mrdoob/three.js/\"\n",
      "        ],\n",
      "        \"pmcid\": \"PMC5838108\",\n",
      "        \"pub_date\": \"2018-03-01\"\n",
      "    },\n",
      "    \"10.1038/s41598-017-18257-2\": {\n",
      "        \"github\": [\n",
      "            \"https://github.com/ChrisMaherLab/INTEGRATE-Vis\"\n",
      "        ],\n",
      "        \"pmcid\": \"PMC5736641\",\n",
      "        \"pub_date\": \"2017-12-01\"\n",
      "    },\n",
      "    \"10.1038/sdata.2017.151\": {\n",
      "        \"github\": [\n",
      "            \"https://github.com/MaayanLab/clustergrammer\",\n",
      "            \"https://github.com/MaayanLab/clustergrammer-docs\",\n",
      "            \"https://github.com/MaayanLab/clustergrammer-py\",\n",
      "            \"https://github.com/jupyter-widgets/widget-cookiecutter\",\n",
      "            \"https://github.com/MaayanLab/clustergrammer-widget\",\n",
      "            \"https://github.com/jupyter-widgets/ipywidgets\",\n",
      "            \"https://github.com/MaayanLab/clustergrammer-web\",\n",
      "            \"https://github.com/MaayanLab/CST_Lung_Cancer_Viz\",\n",
      "            \"https://github.com/MaayanLab/Cytof_Plasma_PMA\",\n",
      "            \"https://github.com/MaayanLab/CCLE_Clustergrammer\"\n",
      "        ],\n",
      "        \"pmcid\": \"PMC5634325\",\n",
      "        \"pub_date\": \"2017-10-01\"\n",
      "    },\n",
      "    \"10.1038/sdata.2018.11\": {\n",
      "        \"github\": [\n",
      "            \"https://github.com/npnl/ATLAS/\",\n",
      "            \"https://github.com/npnl/ATLAS/issues\",\n",
      "            \"https://github.com/BIC-MNI/minc-toolkit\",\n",
      "            \"https://github.com/npnl/SRQL\"\n",
      "        ],\n",
      "        \"pmcid\": \"PMC5819480\",\n",
      "        \"pub_date\": \"2018-02-01\"\n",
      "    },\n",
      "    \"10.1093/nar/gkx1152\": {\n",
      "        \"github\": [\n",
      "            \"https://github.com/Planteome\",\n",
      "            \"https://github.com/Planteome/plant-ontology\",\n",
      "            \"https://github.com/Planteome/plant-trait-ontology\",\n",
      "            \"https://github.com/Planteome/plant-experimental-conditions-ontology\",\n",
      "            \"https://github.com/pato-ontology/pato\",\n",
      "            \"https://github.com/Planteome/planteome-ncbi-taxonomy\",\n",
      "            \"https://github.com/Planteome/amigo\",\n",
      "            \"http://github.com/Planteome\",\n",
      "            \"https://github.com/biolink/biolink-api\",\n",
      "            \"https://github.com/Planteome/plant-ontology/issues\",\n",
      "            \"https://github.com/Planteome/common-files-for-ref-ontologies/tree/master/scripts/germplasm_annotation\"\n",
      "        ],\n",
      "        \"pmcid\": \"PMC5753347\",\n",
      "        \"pub_date\": \"2018-01-01\"\n",
      "    },\n",
      "    \"10.1186/s12859-018-2074-9\": {\n",
      "        \"github\": [\n",
      "            \"https://github.com/bioperl/p5-bpwrapper\",\n",
      "            \"https://github.com/tlawrence3/FAST\"\n",
      "        ],\n",
      "        \"pmcid\": \"PMC5833151\",\n",
      "        \"pub_date\": \"2018-03-01\"\n",
      "    },\n",
      "    \"10.1186/s13059-017-1319-7\": {\n",
      "        \"github\": [\n",
      "            \"https://github.com/ChimeRScope/ChimeRScope/wiki\",\n",
      "            \"https://github.com/bioinfo-ut/GenomeTester4/\",\n",
      "            \"https://github.com/danielnavarrogomez/phy-mer\",\n",
      "            \"http://github.com/cbib/MICADo\",\n",
      "            \"https://github.com/lh3/minimap\",\n",
      "            \"https://github.com/marbl/MHAP\",\n",
      "            \"https://github.com/lh3/miniasm\",\n",
      "            \"https://github.com/warrenlr/LINKS/\",\n",
      "            \"https://github.com/luscinius/afcluster\",\n",
      "            \"https://github.com/mourisl/Lighter\",\n",
      "            \"https://github.com/gmarcais/Quorum\",\n",
      "            \"https://github.com/fanhuan/AAF\",\n",
      "            \"https://github.com/pdtrang/GSM\",\n",
      "            \"https://github.com/marbl/mash\",\n",
      "            \"https://github.com/jessieren/VirHostMatcher\",\n",
      "            \"https://github.com/ctlab/metafast\",\n",
      "            \"https://github.com/seqan/seqan/tree/master/apps/alf\",\n",
      "            \"https://github.com/evolbioinf/andi/\",\n",
      "            \"https://github.com/younglululu/CAFE\",\n",
      "            \"https://github.com/tderrien/FEELnc\",\n",
      "            \"https://github.com/WGLab/lncScore\",\n",
      "            \"https://github.com/congyingnan/TF-IDF\",\n",
      "            \"https://github.com/shaze/wcdest/\",\n",
      "            \"https://github.com/Huiyang520/DMk-BKmeans\",\n",
      "            \"https://github.com/soedinglab/kClust\",\n",
      "            \"https://github.com/cyinbox/PPI\",\n",
      "            \"https://github.com/aziele/alfpy\"\n",
      "        ],\n",
      "        \"pmcid\": \"PMC5627421\",\n",
      "        \"pub_date\": \"2017-10-01\"\n",
      "    },\n",
      "    \"10.1186/s13059-017-1382-0\": {\n",
      "        \"github\": [\n",
      "            \"https://github.com/theislab/Scanpy\",\n",
      "            \"https://github.com/theislab/anndata\",\n",
      "            \"https://github.com/theislab/scanpy_usage/tree/master/170505_seurat\",\n",
      "            \"https://github.com/theislab/scanpy_usage/tree/master/170503_zheng17\",\n",
      "            \"https://github.com/theislab/scanpy_usage/tree/master/170522_visualizing_one_million_cells\",\n",
      "            \"https://github.com/theislab/scanpy_usage/tree/master/170502_haghverdi16\",\n",
      "            \"https://github.com/theislab/scanpy_usage/tree/master/170430_krumsiek11\",\n",
      "            \"https://github.com/theislab/scanpy_usage/tree/master/170529_images\",\n",
      "            \"https://github.com/linnarsson-lab/loompy\",\n",
      "            \"https://github.com/PMBio/scLVM\",\n",
      "            \"https://github.com/YosefLab/FastProject\",\n",
      "            \"https://github.com/AllonKleinLab/SPRING\",\n",
      "            \"https://github.com/dimenwarper/scimitar\",\n",
      "            \"https://github.com/jacoblevine/PhenoGraph\",\n",
      "            \"https://github.com/asncd/MIMOSCA\",\n",
      "            \"https://github.com/vals/umis\",\n",
      "            \"https://github.com/GGiecold/ECLAIR\",\n",
      "            \"https://github.com/yeolab/flotilla\",\n",
      "            \"https://github.com/theislab/scanpy\",\n",
      "            \"https://github.com/theislab/scanpy_usage\",\n",
      "            \"https://github.com/DmitryUlyanov/Multicore-TSNE\",\n",
      "            \"https://github.com/SheffieldML/GPy\"\n",
      "        ],\n",
      "        \"pmcid\": \"PMC5802054\",\n",
      "        \"pub_date\": \"2018-02-01\"\n",
      "    },\n",
      "    \"10.1371/journal.pone.0191298\": {\n",
      "        \"github\": [\n",
      "            \"https://github.com/igm-team/orion-public\"\n",
      "        ],\n",
      "        \"pmcid\": \"PMC5764482\",\n",
      "        \"pub_date\": \"2018-01-01\"\n",
      "    },\n",
      "    \"10.7554/elife.32822\": {\n",
      "        \"github\": [\n",
      "            \"https://github.com/greenelab/scihub/issues/39\",\n",
      "            \"https://github.com/greenelab/library-access/issues/23\",\n",
      "            \"https://github.com/greenelab/library-access\",\n",
      "            \"https://github.com/greenelab/scihub-manuscript/issues/17\",\n",
      "            \"https://github.com/greenelab/scihub-manuscript/issues/20#issuecomment-327854780\",\n",
      "            \"https://github.com/greenelab/scihub-manuscript/issues/35#issuecomment-355171030\",\n",
      "            \"https://github.com/greenelab/scihub\",\n",
      "            \"https://github.com/greenelab/scihub-browser-data\",\n",
      "            \"https://github.com/greenelab/scihub-manuscript\",\n",
      "            \"https://github.com/greenelab/scihub/issues/9\",\n",
      "            \"https://github.com/greenelab/crossref/issues/3\",\n",
      "            \"https://github.com/greenelab/crossref\",\n",
      "            \"https://github.com/greenelab/scihub/issues/7\",\n",
      "            \"https://github.com/dhimmel/scopus\",\n",
      "            \"https://github.com/greenelab/scihub/issues/2\",\n",
      "            \"https://github.com/greenelab/scihub-manuscript/issues/36\",\n",
      "            \"https://github.com/greenelab/opencitations\",\n",
      "            \"https://github.com/elifesciences-publications/crossref\",\n",
      "            \"https://github.com/elifesciences-publications/scihub\",\n",
      "            \"https://github.com/elifesciences-publications/scihub-manuscript\",\n",
      "            \"https://github.com/elifesciences-publications\",\n",
      "            \"https://github.com/elifesciences-publications/scopus\",\n",
      "            \"https://github.com/elifesciences-publications/library-access\",\n",
      "            \"https://github.com/greenelab/scihub-manuscript/milestone/2\",\n",
      "            \"https://github.com/greenelab/scihub-manuscript/issues/35\",\n",
      "            \"https://github.com/greenelab/scihub/blob/ca4d523e149f30be7fd3d3ae6551a26d1c625313/01.catalog-dois.ipynb\",\n",
      "            \"https://github.com/pandas-dev/pandas/blob/v0.20.1/pandas/core/algorithms.py#L399\",\n",
      "            \"https://github.com/greenelab/scihub/blob/ca4d523e149f30be7fd3d3ae6551a26d1c625313/data/doi.tsv.xz\"\n",
      "        ],\n",
      "        \"pmcid\": \"PMC5832410\",\n",
      "        \"pub_date\": \"2018-03-01\"\n",
      "    }\n",
      "}\n"
     ]
    }
   ],
   "source": [
    "print(json.dumps(dict_of_papers, sort_keys=True, indent=4))"
   ]
  }
 ],
 "metadata": {
  "kernelspec": {
   "display_name": "Python 3",
   "language": "python",
   "name": "python3"
  },
  "language_info": {
   "codemirror_mode": {
    "name": "ipython",
    "version": 3
   },
   "file_extension": ".py",
   "mimetype": "text/x-python",
   "name": "python",
   "nbconvert_exporter": "python",
   "pygments_lexer": "ipython3",
   "version": "3.5.2"
  }
 },
 "nbformat": 4,
 "nbformat_minor": 2
}
