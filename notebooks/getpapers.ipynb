{
 "cells": [
  {
   "cell_type": "markdown",
   "metadata": {},
   "source": [
    "# Step 1: find the papers that contain the term of interest\n",
    "\n",
    "Using ContentMine's getpapers query to identify papers for a particular term.\n",
    "\n",
    "Here, we search for GitHub URLs using the term 'github.com'\n",
    "\n",
    "Other queries to try: //flesh these out as example queries\n",
    "* Zenodo\n",
    "* Figshare\n",
    "\n",
    "# Setup\n",
    "Install getpapers locally. Docs: https://github.com/ContentMine/getpapers\n",
    "\n",
    "> npm install --global getpapers\n",
    "\n",
    "## Requirements\n",
    "See requirements.txt\n",
    "\n",
    "## Attempting to get getpapers to work in jupyter lab (ignore this section?)"
   ]
  },
  {
   "cell_type": "code",
   "execution_count": 5,
   "metadata": {
    "collapsed": true
   },
   "outputs": [],
   "source": [
    "import os"
   ]
  },
  {
   "cell_type": "code",
   "execution_count": 4,
   "metadata": {
    "collapsed": false
   },
   "outputs": [
    {
     "data": {
      "text/plain": [
       "32512"
      ]
     },
     "execution_count": 4,
     "metadata": {},
     "output_type": "execute_result"
    }
   ],
   "source": [
    "os.system(\"getpapers --query 'github' -n -o github\")"
   ]
  },
  {
   "cell_type": "markdown",
   "metadata": {},
   "source": [
    "# Get papers\n",
    "\n",
    "Sample code:\n",
    "\n",
    "getpapers --query 'query' -o output\n",
    "\n",
    "query = your search term, using regex where needed\n",
    "output = name of directory that your output will be printed to. Without specifying further, this will be JSON with paper metadata and abstract.\n",
    "\n",
    "Append -x to the sample code to download the full-text article XMLs into the output directory.\n",
    "Include -n (before -o) to just return a number of results instead of downloading the paper data.\n",
    "\n",
    "Search directory: getpapers will search europePMC by default. To search other repositories, ... //FLESH OUT\n",
    "\n",
    "Further documentation: https://github.com/ContentMine/getpapers\n",
    "\n",
    "## Determine your query and output folder\n",
    "\n",
    "We recommend:\n",
    "Github: 'github.com'\n",
    "Zenodo: ..\n",
    "Figshare: ..\n",
    "\n",
    "// FLESH OUT: link to 'recommended_queries.txt'??"
   ]
  },
  {
   "cell_type": "code",
   "execution_count": 2,
   "metadata": {
    "collapsed": false
   },
   "outputs": [],
   "source": [
    "#Specific your query here by replacing the word(s) instead the ''\n",
    "query = 'github.com'\n",
    "\n",
    "#Specific the name of your output directory here. This is where the article metadata (JSON) or xml (if appending -x) will be downloaded to.\n",
    "output = 'githubdotcom' "
   ]
  },
  {
   "cell_type": "markdown",
   "metadata": {},
   "source": [
    "## Run getpapers to find number of results for your query\n",
    "\n",
    "Note getpapers is written in ...\n",
    "We need to call our local terminal to run getpapers and return the results here. We do this by wrapping our command in os.system(\"..\")"
   ]
  },
  {
   "cell_type": "code",
   "execution_count": 5,
   "metadata": {
    "collapsed": false
   },
   "outputs": [
    {
     "data": {
      "text/plain": [
       "0"
      ]
     },
     "execution_count": 5,
     "metadata": {},
     "output_type": "execute_result"
    }
   ],
   "source": [
    "import os\n",
    "os.system(\"getpapers --query 'query' -n -o output\")"
   ]
  },
  {
   "cell_type": "code",
   "execution_count": 7,
   "metadata": {
    "collapsed": false
   },
   "outputs": [
    {
     "data": {
      "text/plain": [
       "'/Users/naomipenfold/Github/collabw18/code-cite'"
      ]
     },
     "execution_count": 7,
     "metadata": {},
     "output_type": "execute_result"
    }
   ],
   "source": [
    "os.getcwd()"
   ]
  },
  {
   "cell_type": "markdown",
   "metadata": {},
   "source": [
    "## Run getpapers to download article data"
   ]
  },
  {
   "cell_type": "code",
   "execution_count": null,
   "metadata": {
    "collapsed": true
   },
   "outputs": [],
   "source": [
    "#Appending -x to retrieve the full text in xml\n",
    "getpapers --query query -o output -x"
   ]
  }
 ],
 "metadata": {
  "kernelspec": {
   "display_name": "Python 3",
   "language": "python",
   "name": "python3"
  },
  "language_info": {
   "codemirror_mode": {
    "name": "ipython",
    "version": 3
   },
   "file_extension": ".py",
   "mimetype": "text/x-python",
   "name": "python",
   "nbconvert_exporter": "python",
   "pygments_lexer": "ipython3",
   "version": "3.6.0"
  }
 },
 "nbformat": 4,
 "nbformat_minor": 2
}
