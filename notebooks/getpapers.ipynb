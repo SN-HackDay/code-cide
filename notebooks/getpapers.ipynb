{
 "cells": [
  {
   "cell_type": "markdown",
   "metadata": {},
   "source": [
    "# Step 1: find the papers that contain the term of interest\n",
    "\n",
    "Using ContentMine's getpapers query to identify papers for a particular term.\n",
    "\n",
    "Here, we search for GitHub URLs using the regex *github.com/*\n",
    "\n",
    "Other queries to try: //flesh these out as example queries\n",
    "* Zenodo\n",
    "* Figshare\n",
    "\n",
    "# Setup\n",
    "Install getpapers. Docs: https://github.com/ContentMine/getpapers\n",
    "\n",
    "> npm install --global getpapers\n",
    "\n",
    "## Requirements\n",
    "npm\n",
    "getpapers v"
   ]
  },
  {
   "cell_type": "code",
   "execution_count": 5,
   "metadata": {},
   "outputs": [],
   "source": [
    "import os"
   ]
  },
  {
   "cell_type": "code",
   "execution_count": 4,
   "metadata": {},
   "outputs": [
    {
     "data": {
      "text/plain": [
       "32512"
      ]
     },
     "execution_count": 4,
     "metadata": {},
     "output_type": "execute_result"
    }
   ],
   "source": [
    "os.system(\"getpapers --query 'github' -n -o github\")"
   ]
  },
  {
   "cell_type": "markdown",
   "metadata": {},
   "source": [
    "# Get papers\n",
    "\n",
    "Sample code:\n",
    "\n",
    "getpapers -q 'query' -o output\n",
    "\n",
    "query = your search term, using regex where needed\n",
    "output = name of directory that your output will be printed to. Without specifying further, this will be JSON with paper metadata and abstract.\n",
    "\n",
    "Append -x to the sample code to download the full-text article XMLs into the output directory.\n",
    "Include -n (before -o) to just return a number of results instead of downloading the paper data.\n",
    "\n",
    "Search directory: getpapers will search europePMC by default. To search other repositories, ... //FLESH OUT\n",
    "\n",
    "Further documentation: https://github.com/ContentMine/getpapers\n",
    "\n",
    "## Find papers containing GitHub links\n",
    "\n",
    "'*github.com*'"
   ]
  },
  {
   "cell_type": "code",
   "execution_count": null,
   "metadata": {},
   "outputs": [],
   "source": [
    "getpapers -q '*github.com*' -n -o githubdotcom"
   ]
  }
 ],
 "metadata": {
  "kernelspec": {
   "display_name": "Python 3",
   "language": "python",
   "name": "python3"
  },
  "language_info": {
   "codemirror_mode": {
    "name": "ipython",
    "version": 3
   },
   "file_extension": ".py",
   "mimetype": "text/x-python",
   "name": "python",
   "nbconvert_exporter": "python",
   "pygments_lexer": "ipython3",
   "version": "3.6.0"
  }
 },
 "nbformat": 4,
 "nbformat_minor": 2
}
