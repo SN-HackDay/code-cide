{
 "cells": [
  {
   "cell_type": "markdown",
   "metadata": {
    "slideshow": {
     "slide_type": "slide"
    }
   },
   "source": [
    "# How reusable is software mentioned in Open Access papers? An empirical study using code-cite\n",
    "\n",
    "_Neil Chue Hong, Robin Long, Martin O’Reilly, Naomi Penfold, Isla Staden, Alexander Struck, Shoaib Sufi, Matthew Upson, Andrew Walker, Kirstie Whitaker_\n",
    "\n",
    "RSE18, Birmingham - 4th September 2018\n",
    "\n",
    "https://github.com/softwaresaved/code-cite\n",
    "\n",
    "DOI: 10.5281/zenodo.1209095"
   ]
  },
  {
   "cell_type": "markdown",
   "metadata": {
    "slideshow": {
     "slide_type": "skip"
    }
   },
   "source": [
    "### Notes on this notebook\n",
    "\n",
    "This notebook is the presentation for RSE18. To convert to slides and present, use the command:\n",
    "\n",
    "`jupyter nbconvert RSE18CodeCitePresentation.ipynb --to slides --post serve`"
   ]
  },
  {
   "cell_type": "markdown",
   "metadata": {
    "slideshow": {
     "slide_type": "notes"
    }
   },
   "source": [
    "## Abstract\n",
    "\n",
    "Software is increasingly referenced in publications [1] because it has been used to produce the results being described, and because journals and funders are requiring code to be shared to improve reproducibility, encourage reuse and reduce duplication. This software may have been written to enable the work described in the publication, may be being cited to credit the original authors, or the main function of the publication could be to describe the software.\n",
    "\n",
    "However it is hard both to identify software which is referenced in publications, and to assess its reusability. To address this we mined [2] the full text of papers available from EuropePMC to identify links to software repositories (here, “Github.com”). We investigated link persistence and queried the software repository to extract attributes including license information, documentation and update frequency, from which we inferred the likely reusability and sustainability of the software.\n",
    "\n",
    "Our results show that there are clear differences in the reusability of software referenced in the research literature.\n",
    "\n",
    "[1] Bullard and Howison (2015) https://doi.org/10.1002/asi.23538\n",
    "\n",
    "[2] Watson et al (2018). http://doi.org/10.5281/zenodo.1209311"
   ]
  },
  {
   "cell_type": "markdown",
   "metadata": {
    "slideshow": {
     "slide_type": "slide"
    }
   },
   "source": [
    "# About this talk\n",
    "\n",
    "* Why do we want to know if code is reusable?\n",
    "* Why is it hard to find code in papers?\n",
    "* What is code-cite and how does it work?\n",
    "* What do we find when we analyse Open Journals?\n",
    "* What could we do next?"
   ]
  },
  {
   "cell_type": "markdown",
   "metadata": {
    "slideshow": {
     "slide_type": "slide"
    }
   },
   "source": [
    "# Why do we want to know if code is reusable?\n",
    "\n",
    "* Open science has increased the number of researchers making their outputs available but on its own doesn't enable researchers to benefit from the sharing of code as an output\n",
    "    * The increasing amount of code being shared means that it is becoming potentially harder for people to identify the code they should be using\n",
    "* Allow researchers and policy makers to see how the presence and quality of links to data and software in publications are changing over time so that they can identify emergent behaviour."
   ]
  },
  {
   "cell_type": "markdown",
   "metadata": {
    "slideshow": {
     "slide_type": "slide"
    }
   },
   "source": [
    "# Why is it hard to find code in papers?\n",
    "\n",
    "* Howison and Bullard, _Software in the scientific literature: Problems with seeing, finding, and using software mentioned in the biology literature_ DOI: [10.1002/asi.23538](https://doi.org/10.1002/asi.23538)\n",
    "  * There's no standard way to identify it\n",
    "  * Only between 31% and 43% of mentions involve formal citations\n",
    "  * Informal mentions are very common, even in high impact factor journals\n",
    "\n",
    "![Types of software mentions](img/softwarereferences.png)"
   ]
  },
  {
   "cell_type": "markdown",
   "metadata": {
    "slideshow": {
     "slide_type": "subslide"
    }
   },
   "source": [
    "# But software is increasingly mentioned\n",
    "\n",
    "![References to GitHub](img/termoccurencegithub.png)\n",
    "\n",
    "_References to GitHub repositories in papers indexed in EuroPMC over time_"
   ]
  },
  {
   "cell_type": "markdown",
   "metadata": {
    "slideshow": {
     "slide_type": "subslide"
    }
   },
   "source": [
    "# And software is being formally registered\n",
    "\n",
    "![Software DOIs registered at Datacite](img/dois-for-software.png)\n",
    "\n",
    "_DOI Registrations for Software, Fenner et al, https://doi.org/10.5438/1nmy-9902_"
   ]
  },
  {
   "cell_type": "markdown",
   "metadata": {
    "slideshow": {
     "slide_type": "slide"
    }
   },
   "source": [
    "# How does _code-cite_ work?"
   ]
  },
  {
   "cell_type": "markdown",
   "metadata": {
    "slideshow": {
     "slide_type": "fragment"
    }
   },
   "source": [
    "   * Originated from a [Springer Nature Hackday](https://www.springernature.com/gb/researchers/campaigns/sn-hack-day) in November 2017"
   ]
  },
  {
   "cell_type": "markdown",
   "metadata": {
    "slideshow": {
     "slide_type": "fragment"
    }
   },
   "source": [
    "   * Continued at the [Collaborations Workshop Hackday](https://www.software.ac.uk/cw18/) in March 2018"
   ]
  },
  {
   "cell_type": "markdown",
   "metadata": {
    "slideshow": {
     "slide_type": "fragment"
    }
   },
   "source": [
    "   * __Goal__: enable analysis of a corpus of papers for citation links into repositories which may hold research data and/or software"
   ]
  },
  {
   "cell_type": "markdown",
   "metadata": {
    "slideshow": {
     "slide_type": "subslide"
    }
   },
   "source": [
    "# What does this mean in practice?\n",
    "\n",
    "* Documented how to use TheContentMine to narrow down corpus of papers\n",
    "* Provided libraries and Jupyter notebooks to search for software in a corpus (by looking for links to public source code repositories)\n",
    "* Provided libraries and notebooks to analyse characteristics of the repositories identified in the corpus (e.g. number of contributors, how frequently updated, reusability)\n",
    "* All openly available and licensed so anyone can reuse and contribute"
   ]
  },
  {
   "cell_type": "markdown",
   "metadata": {
    "slideshow": {
     "slide_type": "subslide"
    }
   },
   "source": [
    "# Using _getpapers_ to narrow a corpus\n",
    "\n",
    "* [ContentMine](http://contentmine.org/) provide [tools](https://github.com/contentmine) to help extract information from the academic literature \n",
    "* We use the [getpapers](https://github.com/ContentMine/getpapers) tool to get metadata, fulltexts and fulltext URLs of papers matching a search query\n",
    "   * In this example, we use contentmines default EuroPMC corpus as it provides the fulltext of the papers (using the -x flag), which will be useful later\n",
    "* This technique can also be used to identify references to code repositories (e.g. GitHub or BitBucket) or to deposits in digital repositories (e.g. Zenodo or Figshare)\n",
    "   * Though additional use of APIs are required to identify if links to digital repository deposits are software or some other research object "
   ]
  },
  {
   "cell_type": "markdown",
   "metadata": {
    "slideshow": {
     "slide_type": "slide"
    }
   },
   "source": [
    "# How many references to software are there?\n",
    "\n",
    "* Other work has shown that the majority of references to software source code repositories via a URL in publications are to GitHub hosted repositories\n",
    "* [For this analysis](https://github.com/softwaresaved/code-cite/blob/master/notebooks/getpapers.md) we use the search term 'github.com' since we are looking to identify github urls\n",
    "   * Searching for 'github' alone retrieves 12,823 papers (out of over 2.1 million) from europePMC using getpapers\n",
    "   * Searching for 'github.com' retrieves 11,377 and excludes individual mentions of GitHub that are not external links and github.io links which are more likely to be landing pages than software repositories\n",
    "   \n",
    "`getpapers --query 'github.com' -o data -x`\n",
    "\n",
    "* _code-cite_ provides some libraries to structure and process this information\n"
   ]
  },
  {
   "cell_type": "code",
   "execution_count": null,
   "metadata": {
    "slideshow": {
     "slide_type": "subslide"
    }
   },
   "outputs": [],
   "source": [
    "import json\n",
    "import process_eupmc\n",
    "\n",
    "# Directory containing the data\n",
    "data_dir = '../data'\n",
    "\n",
    "# File containing the list of matching papers\n",
    "matching_papers = data_dir + '/' + 'eupmc_fulltext_html_urls.txt'\n",
    "\n",
    "# File for the output\n",
    "output_jsonfile = data_dir + '/' + 'dict_of_papers.json'\n",
    "\n",
    "# Get the list of subdirectories dumped by ContentMine\n",
    "paper_ids = process_eupmc.get_pmcids(matching_papers)\n",
    "\n",
    "# Process the papers and extract all the references to GitHub urls\n",
    "papers_info = process_eupmc.process_papers(paper_ids, data_dir)\n",
    "\n",
    "dict_of_papers = {}\n",
    "\n",
    "for p in papers_info:\n",
    "    paper_dict = {}\n",
    "    paper_dict['pmcid'] = p.pmcid\n",
    "    paper_dict['pub_date'] = p.pub_date\n",
    "    paper_dict['github'] = p.references['github']\n",
    "    dict_of_papers[str(p.doi)] = paper_dict\n",
    "\n",
    "with open(output_jsonfile, 'w') as outfile:  \n",
    "    json.dump(dict_of_papers, outfile)"
   ]
  },
  {
   "cell_type": "markdown",
   "metadata": {
    "slideshow": {
     "slide_type": "slide"
    }
   },
   "source": [
    "# Is software updated after the paper is published?\n",
    "\n",
    "We can look at the references to GitHub URLs in papers available in the OA corpus from EuroPMC, and identify how many times the GitHub repositories have been updated since paper referencing them was released."
   ]
  },
  {
   "cell_type": "code",
   "execution_count": null,
   "metadata": {
    "slideshow": {
     "slide_type": "fragment"
    }
   },
   "outputs": [],
   "source": [
    "for p in papers_info:\n",
    "\n",
    "    repos = []\n",
    "    # Removes references to the main github.com site\n",
    "    # and treat references to blobs / issues as references to the repo\n",
    "    for gh_url in p.references['github']:\n",
    "        words = gh_url.split('/')\n",
    "        if len(words) > 4: #\n",
    "            reponame = words[3] + '/' + words[4]\n",
    "            if reponame not in repos:\n",
    "                repos.append(reponame)            \n",
    "    \n",
    "    for repo in repos:\n",
    "        if verbose: print (\"Processing: \", repo)\n",
    "        code = g.get_repo(repo)\n",
    "        # limit to commits since publication date\n",
    "        since = datetime.strptime(p.pub_date, '%Y-%m-%d')\n",
    "        days = (datetime.now() - since).days\n",
    "        commits = code.get_commits()\n",
    "        num_commits = 0\n",
    "        commit_date = commits[num_commits].commit.author.date\n",
    "        while commit_date > since:\n",
    "            num_commits = num_commits + 1\n",
    "            commit_date = commits[num_commits].commit.author.date\n",
    "        if verbose: print(\"Number of commits since publication: \", num_commits)\n",
    "        commit_freq = num_commits / days\n",
    "        if verbose: print(\"Commit frequency: \", commit_freq, \"commits/day since publication\")\n",
    "        number_of_updates[num_commits] +=1\n",
    "        # I'm using the magic number 100 until I get a sense of the correct bins to use\n",
    "        frequency_of_updates[int(100 * commit_freq)] +=1"
   ]
  },
  {
   "cell_type": "markdown",
   "metadata": {
    "slideshow": {
     "slide_type": "subslide"
    }
   },
   "source": [
    "# Is software updated after the paper is published?\n",
    "\n",
    "![title](img/commitsperdaysincepublication.png)\n",
    "\n"
   ]
  },
  {
   "cell_type": "markdown",
   "metadata": {
    "slideshow": {
     "slide_type": "fragment"
    }
   },
   "source": [
    "_Note that at present, we are __not__ distinguishing between URLs referencing software created by the paper authors, versus used by the authors, nor which software was created as a result of the work in the paper._\n",
    "* Also this example is running on a relatively small sample of papers (~100) randomly selected from 2017-18"
   ]
  },
  {
   "cell_type": "markdown",
   "metadata": {
    "slideshow": {
     "slide_type": "slide"
    }
   },
   "source": [
    "# How reusable is the software?\n",
    "\n",
    "* There are things that can be argued improve usability\n",
    "   * Does the URL in the paper actually resolve?\n",
    "   * Does it have a LICENCE?\n",
    "   * Does it have a README?"
   ]
  },
  {
   "cell_type": "markdown",
   "metadata": {
    "slideshow": {
     "slide_type": "subslide"
    }
   },
   "source": [
    "# Does the URL resolve?\n",
    "\n",
    "We can check whether the URLs provided which reference software in paper still resolve.\n",
    "\n",
    "![Do the URLs to software still resolve?](img/stillresolve.png)"
   ]
  },
  {
   "cell_type": "markdown",
   "metadata": {
    "slideshow": {
     "slide_type": "fragment"
    }
   },
   "source": [
    "Why don't they still resolve?\n",
    "* Typos in URL: 2 repos\n",
    "* Wrong path in URL: 1 repo (3 URLs)\n",
    "* Repository reorganised: 1 repo - published February 2018\n",
    "* Repository renamed: 1 repo (7 URLs) - published July 2017"
   ]
  },
  {
   "cell_type": "markdown",
   "metadata": {
    "slideshow": {
     "slide_type": "subslide"
    }
   },
   "source": [
    "# Does it have a LICENCE and/or README?\n",
    "\n",
    "![Does software referenced in papers have a licence or readme?](img/licenceandreadme.png)"
   ]
  },
  {
   "cell_type": "markdown",
   "metadata": {
    "slideshow": {
     "slide_type": "fragment"
    }
   },
   "source": [
    "* Have not checked if README is more than just the name of the repo\n",
    "* Some \"software\" is documentation"
   ]
  },
  {
   "cell_type": "markdown",
   "metadata": {
    "slideshow": {
     "slide_type": "subslide"
    }
   },
   "source": [
    "# Does it have a process for contributions?\n",
    "\n",
    "![Does software referenced in publications have a contributor file?](img/contributorfile.png)"
   ]
  },
  {
   "cell_type": "markdown",
   "metadata": {
    "slideshow": {
     "slide_type": "slide"
    }
   },
   "source": [
    "# What have we learned?\n",
    "\n",
    "* Software is increasingly mentioned in papers, if we look for GitHub URLs\n",
    "* A lot of software is put onto GitHub and never updated\n",
    "   * But generally this software is still accessible\n",
    "* Most software referenced in papers has a README and LICENCE for minimal reusability\n",
    "   * But there's still a lot which has neither (or no licence)"
   ]
  },
  {
   "cell_type": "markdown",
   "metadata": {
    "slideshow": {
     "slide_type": "slide"
    }
   },
   "source": [
    "# What can we (all) do next?\n",
    "\n",
    "* Extend this study to:\n",
    "   * Look at the whole EuroPMC corpus (donate your GitHub tokens!)\n",
    "   * Look at other corpora and see if there are domain-based trends\n",
    "* Compare and contrast to:\n",
    "   * See if policy changes have had an effect (e.g. Science pre-/post-2011)\n",
    "* Understand how to:\n",
    "   * Look at where software is mentioned (e.g. in methodology, in footnotes, in references)\n",
    "   * Identify software used by the authors versus written by them\n",
    "\n",
    "   \n",
    "## _What would you do next?_"
   ]
  }
 ],
 "metadata": {
  "celltoolbar": "Slideshow",
  "kernelspec": {
   "display_name": "Python 3",
   "language": "python",
   "name": "python3"
  },
  "language_info": {
   "codemirror_mode": {
    "name": "ipython",
    "version": 3
   },
   "file_extension": ".py",
   "mimetype": "text/x-python",
   "name": "python",
   "nbconvert_exporter": "python",
   "pygments_lexer": "ipython3",
   "version": "3.5.5"
  }
 },
 "nbformat": 4,
 "nbformat_minor": 2
}
