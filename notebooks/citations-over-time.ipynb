{
 "cells": [
  {
   "cell_type": "markdown",
   "metadata": {},
   "source": [
    "# Citations over time"
   ]
  },
  {
   "cell_type": "code",
   "execution_count": 6,
   "metadata": {},
   "outputs": [
    {
     "name": "stdout",
     "output_type": "stream",
     "text": [
      "The autoreload extension is already loaded. To reload it, use:\n",
      "  %reload_ext autoreload\n"
     ]
    }
   ],
   "source": [
    "# You can ignore this cell, it just imports the different modules you need :smile:\n",
    "from glob import glob\n",
    "from IPython.display import display # Use this to display multiple outputs within a cell\n",
    "import itertools as it\n",
    "import json\n",
    "import matplotlib.pylab as plt\n",
    "%matplotlib inline\n",
    "import numpy as np\n",
    "import os\n",
    "import pandas as pd\n",
    "import requests\n",
    "import seaborn as sns\n",
    "sns.set_style('white')\n",
    "sns.set_context('notebook',font_scale=1.5)\n",
    "from scipy.stats import ttest_ind, ttest_rel, pearsonr, spearmanr, linregress, ttest_1samp\n",
    "import statsmodels.api as sm\n",
    "from statsmodels.sandbox.stats.multicomp import fdrcorrection0 as fdr\n",
    "import sys\n",
    "\n",
    "%load_ext autoreload\n",
    "%autoreload 2"
   ]
  },
  {
   "cell_type": "markdown",
   "metadata": {},
   "source": [
    "## Get the data"
   ]
  },
  {
   "cell_type": "code",
   "execution_count": 7,
   "metadata": {
    "collapsed": true
   },
   "outputs": [],
   "source": [
    "# Taken from a question on StackOverflow:\n",
    "# https://stackoverflow.com/questions/16694907/how-to-download-large-file-in-python-with-requests-py\n",
    "\n",
    "def download_file(url, filename):\n",
    "    local_filename = '../data/{}'.format(filename)\n",
    "    # NOTE the stream=True parameter\n",
    "    r = requests.get(url, stream=True)\n",
    "    with open(local_filename, 'wb') as f:\n",
    "        for chunk in r.iter_content(chunk_size=1024): \n",
    "            if chunk: # filter out keep-alive new chunks\n",
    "                f.write(chunk)\n",
    "                #f.flush() commented by recommendation from J.F.Sebastian\n",
    "    return local_filename"
   ]
  },
  {
   "cell_type": "code",
   "execution_count": 8,
   "metadata": {
    "collapsed": true
   },
   "outputs": [],
   "source": [
    "eupmc_githubdotcom_f_name = 'eupmc_results_githubdotcom.json'\n",
    "eupmc_githubdotcom_url = 'https://www.dropbox.com/s/4iwwb3mr46pdx2h/{}?dl=1'.format(eupmc_githubdotcom_f_name)\n",
    "\n",
    "eupmc_zenodo_f_name = 'eupmc_results_zenodo.json'\n",
    "eupmc_zenodo_url = 'https://www.dropbox.com/s/r7132d9utv17l8j/{}?dl=1'.format(eupmc_zenodo_f_name)"
   ]
  },
  {
   "cell_type": "code",
   "execution_count": 9,
   "metadata": {},
   "outputs": [
    {
     "name": "stdout",
     "output_type": "stream",
     "text": [
      "eupmc zenodo data already downloaded\n",
      "eupmc githubdotcom data already downloaded\n"
     ]
    }
   ],
   "source": [
    "if not os.path.isdir('../data'):\n",
    "    os.makedirs('../data')\n",
    "if not os.path.isfile('../data/{}'.format(eupmc_zenodo_f_name)):\n",
    "    download_file(eupmc_zenodo_url, eupmc_zenodo_f_name)\n",
    "else:\n",
    "    print('eupmc zenodo data already downloaded')\n",
    "\n",
    "if not os.path.isfile('../data/{}'.format(eupmc_githubdotcom_f_name)):\n",
    "    download_file(eupmc_githubdotcom_url, eupmc_githubdotcom_f_name)\n",
    "else:\n",
    "    print('eupmc githubdotcom data already downloaded')\n"
   ]
  },
  {
   "cell_type": "markdown",
   "metadata": {},
   "source": [
    "## Understand the data"
   ]
  },
  {
   "cell_type": "code",
   "execution_count": 10,
   "metadata": {
    "collapsed": true
   },
   "outputs": [],
   "source": [
    "with open('../data/{}'.format(eupmc_githubdotcom_f_name), encoding=\"utf8\") as f:\n",
    "    data = json.load(f)\n",
    "          "
   ]
  },
  {
   "cell_type": "code",
   "execution_count": 12,
   "metadata": {},
   "outputs": [
    {
     "data": {
      "text/plain": [
       "dict"
      ]
     },
     "execution_count": 12,
     "metadata": {},
     "output_type": "execute_result"
    }
   ],
   "source": [
    "type(data[0])"
   ]
  },
  {
   "cell_type": "code",
   "execution_count": null,
   "metadata": {
    "collapsed": true
   },
   "outputs": [],
   "source": []
  }
 ],
 "metadata": {
  "anaconda-cloud": {},
  "kernelspec": {
   "display_name": "Python 3",
   "language": "python",
   "name": "python3"
  },
  "language_info": {
   "codemirror_mode": {
    "name": "ipython",
    "version": 3
   },
   "file_extension": ".py",
   "mimetype": "text/x-python",
   "name": "python",
   "nbconvert_exporter": "python",
   "pygments_lexer": "ipython3",
   "version": "3.6.3"
  }
 },
 "nbformat": 4,
 "nbformat_minor": 2
}
